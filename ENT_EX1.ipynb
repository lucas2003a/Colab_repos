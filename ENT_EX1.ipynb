{
  "nbformat": 4,
  "nbformat_minor": 0,
  "metadata": {
    "colab": {
      "provenance": [],
      "authorship_tag": "ABX9TyO3f8qzf1mf42ZJDhWitQJ+",
      "include_colab_link": true
    },
    "kernelspec": {
      "name": "python3",
      "display_name": "Python 3"
    },
    "language_info": {
      "name": "python"
    }
  },
  "cells": [
    {
      "cell_type": "markdown",
      "metadata": {
        "id": "view-in-github",
        "colab_type": "text"
      },
      "source": [
        "<a href=\"https://colab.research.google.com/github/lucas2003a/Colab_repos/blob/main/ENT_EX1.ipynb\" target=\"_parent\"><img src=\"https://colab.research.google.com/assets/colab-badge.svg\" alt=\"Open In Colab\"/></a>"
      ]
    },
    {
      "cell_type": "code",
      "execution_count": 1,
      "metadata": {
        "colab": {
          "base_uri": "https://localhost:8080/"
        },
        "id": "U2a1XKEfI5k1",
        "outputId": "3943360e-cb65-468d-85b2-e1337636bc2e"
      },
      "outputs": [
        {
          "output_type": "stream",
          "name": "stdout",
          "text": [
            "Max     1\n",
            "Mín    30\n",
            "dtype: int64\n"
          ]
        }
      ],
      "source": [
        "##Ejercicio 01\n",
        "##Calcular los valores mínimo y máximo de un objeto Series que contiene 10 elementos (números).\n",
        "\n",
        "import pandas as pd\n",
        "\n",
        "def sort_numbers(numeros):\n",
        "  numeros = pd.Series(numeros)\n",
        "  estadisticas = pd.Series([numeros.min(),numeros.max()],index=[\"Max\",\"Mín\"])\n",
        "  return estadisticas\n",
        "\n",
        "numeros  = {\"numero 1\" :1, \"numero 2\" :20, \"numero 3\" :15, \"numero 4\" :30,}\n",
        "print(sort_numbers(numeros))"
      ]
    }
  ]
}