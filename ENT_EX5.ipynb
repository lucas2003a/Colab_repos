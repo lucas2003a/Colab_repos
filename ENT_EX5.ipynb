{
  "nbformat": 4,
  "nbformat_minor": 0,
  "metadata": {
    "colab": {
      "provenance": [],
      "authorship_tag": "ABX9TyNmbrfh3wxaRd8E96CwXUkM",
      "include_colab_link": true
    },
    "kernelspec": {
      "name": "python3",
      "display_name": "Python 3"
    },
    "language_info": {
      "name": "python"
    }
  },
  "cells": [
    {
      "cell_type": "markdown",
      "metadata": {
        "id": "view-in-github",
        "colab_type": "text"
      },
      "source": [
        "<a href=\"https://colab.research.google.com/github/lucas2003a/Colab_repos/blob/main/ENT_EX5.ipynb\" target=\"_parent\"><img src=\"https://colab.research.google.com/assets/colab-badge.svg\" alt=\"Open In Colab\"/></a>"
      ]
    },
    {
      "cell_type": "code",
      "execution_count": 2,
      "metadata": {
        "colab": {
          "base_uri": "https://localhost:8080/"
        },
        "id": "FF6kf8WnaJox",
        "outputId": "0704818f-6c1d-464a-cf53-83d66737dc8f"
      },
      "outputs": [
        {
          "output_type": "stream",
          "name": "stdout",
          "text": [
            "n20    92\n",
            "n5     91\n",
            "n12    84\n",
            "n4     76\n",
            "n19    66\n",
            "n7     63\n",
            "n15    55\n",
            "n11    50\n",
            "n1     42\n",
            "n10    37\n",
            "n13    29\n",
            "n8     20\n",
            "n2     18\n",
            "n17    12\n",
            "n14    10\n",
            "n6      5\n",
            "n18     3\n",
            "n9      0\n",
            "n16     0\n",
            "n3      0\n",
            "dtype: int64\n"
          ]
        }
      ],
      "source": [
        "#Ejercicio #05\n",
        "#Calcular el valor absoluto de los elementos de un objeto Series (debe contener valores negativos, cero y positivos). Para obtener el valor absoluto utilice la función abs()\n",
        "\n",
        "import pandas as pd\n",
        "\n",
        "def absNumbers(numeros):\n",
        "  numeros = pd.Series(numeros)\n",
        "  return numeros.abs().sort_values(ascending = False)\n",
        "\n",
        "numeros = {\n",
        "    \"n1\": 42,\n",
        "    \"n2\": -18,\n",
        "    \"n3\": 0,\n",
        "    \"n4\": -76,\n",
        "    \"n5\": 91,\n",
        "    \"n6\": 5,\n",
        "    \"n7\": -63,\n",
        "    \"n8\": 20,\n",
        "    \"n9\": 0,\n",
        "    \"n10\": 37,\n",
        "    \"n11\": -50,\n",
        "    \"n12\": 84,\n",
        "    \"n13\": -29,\n",
        "    \"n14\": -10,\n",
        "    \"n15\": 55,\n",
        "    \"n16\": 0,\n",
        "    \"n17\": 12,\n",
        "    \"n18\": -3,\n",
        "    \"n19\": 66,\n",
        "    \"n20\": -92\n",
        "}\n",
        "\n",
        "print(absNumbers(numeros))"
      ]
    }
  ]
}