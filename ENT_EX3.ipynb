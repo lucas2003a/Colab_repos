{
  "nbformat": 4,
  "nbformat_minor": 0,
  "metadata": {
    "colab": {
      "provenance": [],
      "authorship_tag": "ABX9TyMy+MFko4CTGXfXBiUShbxo",
      "include_colab_link": true
    },
    "kernelspec": {
      "name": "python3",
      "display_name": "Python 3"
    },
    "language_info": {
      "name": "python"
    }
  },
  "cells": [
    {
      "cell_type": "markdown",
      "metadata": {
        "id": "view-in-github",
        "colab_type": "text"
      },
      "source": [
        "<a href=\"https://colab.research.google.com/github/lucas2003a/Colab_repos/blob/main/ENT_EX3.ipynb\" target=\"_parent\"><img src=\"https://colab.research.google.com/assets/colab-badge.svg\" alt=\"Open In Colab\"/></a>"
      ]
    },
    {
      "cell_type": "code",
      "execution_count": 2,
      "metadata": {
        "colab": {
          "base_uri": "https://localhost:8080/"
        },
        "id": "VdnCKsPIQaB0",
        "outputId": "ed4ff2aa-2133-442a-a1d8-f958f7922865"
      },
      "outputs": [
        {
          "output_type": "stream",
          "name": "stdout",
          "text": [
            "LISTA\n",
            "\n",
            "count    20.000000\n",
            "mean     40.450000\n",
            "std       6.004165\n",
            "min      30.000000\n",
            "25%      35.750000\n",
            "50%      40.500000\n",
            "75%      45.250000\n",
            "max      50.000000\n",
            "dtype: float64\n"
          ]
        }
      ],
      "source": [
        "##Ejercicio #03\n",
        "##Obtener estadísticas básicas de un objeto Series con el método describe. El objeto debe contener un mínimo de 20 valores (no es necesario introducirlos por consola). Recuerde que el método describe() devuelve un conjunto de análisis estadísticos.\n",
        "\n",
        "import pandas as pd\n",
        "\n",
        "def describe_numbers(numeros):\n",
        "  numeros = pd.Series(numeros)\n",
        "  return numeros.describe()\n",
        "\n",
        "numeros = {\n",
        "  \"n1\": 45,\n",
        "  \"n2\": 32,\n",
        "  \"n3\": 39,\n",
        "  \"n4\": 41,\n",
        "  \"n5\": 47,\n",
        "  \"n6\": 36,\n",
        "  \"n7\": 30,\n",
        "  \"n8\": 50,\n",
        "  \"n9\": 38,\n",
        "  \"n10\": 43,\n",
        "  \"n11\": 33,\n",
        "  \"n12\": 49,\n",
        "  \"n13\": 40,\n",
        "  \"n14\": 48,\n",
        "  \"n15\": 44,\n",
        "  \"n16\": 35,\n",
        "  \"n17\": 34,\n",
        "  \"n18\": 46,\n",
        "  \"n19\": 37,\n",
        "  \"n20\": 42\n",
        "}\n",
        "\n",
        "print(\"LISTA\")\n",
        "print(\"\")\n",
        "print(describe_numbers(numeros))\n"
      ]
    }
  ]
}