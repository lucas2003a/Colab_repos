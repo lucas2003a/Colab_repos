{
  "nbformat": 4,
  "nbformat_minor": 0,
  "metadata": {
    "colab": {
      "provenance": [],
      "authorship_tag": "ABX9TyPuiT1qb2X0ljuw55XOBtHC",
      "include_colab_link": true
    },
    "kernelspec": {
      "name": "python3",
      "display_name": "Python 3"
    },
    "language_info": {
      "name": "python"
    }
  },
  "cells": [
    {
      "cell_type": "markdown",
      "metadata": {
        "id": "view-in-github",
        "colab_type": "text"
      },
      "source": [
        "<a href=\"https://colab.research.google.com/github/lucas2003a/Colab_repos/blob/main/ENT_EX2.ipynb\" target=\"_parent\"><img src=\"https://colab.research.google.com/assets/colab-badge.svg\" alt=\"Open In Colab\"/></a>"
      ]
    },
    {
      "cell_type": "code",
      "execution_count": 4,
      "metadata": {
        "colab": {
          "base_uri": "https://localhost:8080/"
        },
        "id": "638-oa_rLPzK",
        "outputId": "dccec580-dca8-4c45-b2e9-6ff209848872"
      },
      "outputs": [
        {
          "output_type": "stream",
          "name": "stdout",
          "text": [
            "Introduce el número inicial: 3\n",
            "Introduce el número final: 6\n",
            "Introduce un número para el elemetnto nro => 3:8\n",
            "Introduce un número para el elemetnto nro => 4:9\n",
            "Introduce un número para el elemetnto nro => 5:5\n",
            "Introduce un número para el elemetnto nro => 6:3\n",
            "Números\n",
            " Min    3.0\n",
            "Max    9.0\n",
            "dtype: float64\n"
          ]
        }
      ],
      "source": [
        "import pandas as pd\n",
        "\n",
        "ninicial = int(input(\"Introduce el número inicial: \"))\n",
        "nfinal = int(input(\"Introduce el número final: \"))\n",
        "\n",
        "numeros = {}\n",
        "\n",
        "for i in range(ninicial, nfinal+1):\n",
        "  numeros[i] = float(input(\"Introduce un número para el elemetnto nro => \"+ str(i) + \":\"))\n",
        "\n",
        "numeros = pd.Series(numeros)\n",
        "numeros = pd.Series([numeros.min(),numeros.max()], index=[\"Min\",\"Max\"])\n",
        "\n",
        "print(\"Números\\n\",numeros)\n"
      ]
    }
  ]
}