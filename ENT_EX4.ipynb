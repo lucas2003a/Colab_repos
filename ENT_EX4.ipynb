{
  "nbformat": 4,
  "nbformat_minor": 0,
  "metadata": {
    "colab": {
      "provenance": [],
      "authorship_tag": "ABX9TyNfwNko3tkevcf6I2RyHdSz",
      "include_colab_link": true
    },
    "kernelspec": {
      "name": "python3",
      "display_name": "Python 3"
    },
    "language_info": {
      "name": "python"
    }
  },
  "cells": [
    {
      "cell_type": "markdown",
      "metadata": {
        "id": "view-in-github",
        "colab_type": "text"
      },
      "source": [
        "<a href=\"https://colab.research.google.com/github/lucas2003a/Colab_repos/blob/main/ENT_EX4.ipynb\" target=\"_parent\"><img src=\"https://colab.research.google.com/assets/colab-badge.svg\" alt=\"Open In Colab\"/></a>"
      ]
    },
    {
      "cell_type": "code",
      "execution_count": null,
      "metadata": {
        "colab": {
          "base_uri": "https://localhost:8080/"
        },
        "id": "7MWtgsZ6Tcnm",
        "outputId": "4540b2aa-b1b5-4d1f-b822-49a6dc6ad6ad"
      },
      "outputs": [
        {
          "output_type": "stream",
          "name": "stdout",
          "text": [
            "Introduce el número incial: 1\n",
            "Introduce el número final: 10\n",
            "Introduce las un número para el dígito: 1:13\n",
            "Introduce las un número para el dígito: 2:6\n",
            "Introduce las un número para el dígito: 3:5\n",
            "Introduce las un número para el dígito: 4:15\n",
            "Introduce las un número para el dígito: 5:15\n",
            "Introduce las un número para el dígito: 6:12\n",
            "Introduce las un número para el dígito: 7:12\n",
            "Introduce las un número para el dígito: 8:36\n",
            "Introduce las un número para el dígito: 9:36\n",
            "Introduce las un número para el dígito: 10:10\n",
            "¿Qué número quieres filtrar? par/impar: solo\n",
            "tipo no valido\n",
            "None\n"
          ]
        }
      ],
      "source": [
        "#Ejercicio #04\n",
        "#Obtener los elementos pares e impares de un objeto Series numérico (debe contener 10 valores introducidos por consola).\n",
        "#usa el modulo % = 0 para conseguir pares\n",
        "\n",
        "import pandas as pd\n",
        "\n",
        "ninicial = int(input(\"Introduce el número incial: \"))\n",
        "nfinal = int(input(\"Introduce el número final: \"))\n",
        "\n",
        "numeros = {}\n",
        "\n",
        "def selectNumbers(numeros, tipo):\n",
        "  numeros = pd.Series(numeros)\n",
        "\n",
        "  if tipo == \"par\":\n",
        "    return numeros[numeros % 2 == 0].sort_values(ascending = False)\n",
        "  elif tipo == \"impar\":\n",
        "    return numeros[numeros % 2 == 1].sort_values(ascending = False)\n",
        "  else:\n",
        "    print(\"tipo no valido\")\n",
        "\n",
        "\n",
        "for i in range(ninicial, nfinal+1):\n",
        "  numeros[i] = float(input(\"Introduce las un número para el dígito: \"+ str(i) + \":\"))\n",
        "\n",
        "tipo = input(\"¿Qué número quieres filtrar? par/impar: \")\n",
        "\n",
        "print(selectNumbers(numeros, tipo))\n",
        "\n",
        "\n",
        "#print(numeros)"
      ]
    },
    {
      "cell_type": "markdown",
      "source": [],
      "metadata": {
        "id": "cH7zRKcpYkQd"
      }
    },
    {
      "cell_type": "markdown",
      "source": [],
      "metadata": {
        "id": "cUv-o6FdT6SY"
      }
    }
  ]
}